{
 "cells": [
  {
   "cell_type": "markdown",
   "id": "beb507a3-d9dd-4dcc-a998-e7ccb7c3524f",
   "metadata": {},
   "source": [
    "# Ejercicio 1: Teorema de Bayes - Sensibilidad y Especifidad"
   ]
  },
  {
   "cell_type": "markdown",
   "id": "7d80f905-527a-452e-8fe4-a1f0a027200d",
   "metadata": {},
   "source": [
    "### Implementar el Teorema de Bayes en una función."
   ]
  },
  {
   "cell_type": "code",
   "execution_count": 1,
   "id": "2cc2d460-d3a2-4dc8-9c5f-093120c7c8e6",
   "metadata": {},
   "outputs": [],
   "source": [
    "# TODO: Implementa en una función el Teorema de Bayes\n",
    "\n",
    "def bayes_theorem(p_a, p_b_dado_a, p_b_dado_no_a):\n",
    "    \"\"\" Devuelve la probabilidad de B dado A según el Teorema de Bayes\n",
    "    \n",
    "    Todas las variables son porcentajes en formato float (i.e., 10% -> 0.1)\n",
    "    \n",
    "    Argumentos posicionales:\n",
    "    p_a -- probabilidad a priori\n",
    "    p_b_dado_a -- probabilidad de que se de el evento B dado el evento A\n",
    "    p_b_dado_no_a -- probabilidad de que se de el evento B no dado el evento A\n",
    "    \n",
    "    Devuelve:\n",
    "    p_a_dado_b -- probabilidad de que se de el evento A dado el evento B\n",
    "    \"\"\"\n",
    "    \n",
    "    p_a = p_a\n",
    "    p_b_dado_a = p_b_dado_a\n",
    "    p_b_dado_no_a = p_b_dado_no_a \n",
    "    \n",
    "    p_a_dado_b = (p_b_dado_a*p_a)/p_b_dado_no_a\n",
    "    \n",
    "    return p_a_dado_b"
   ]
  },
  {
   "cell_type": "markdown",
   "id": "0ce3561e-0174-4990-b242-dddee6ce5c56",
   "metadata": {},
   "source": [
    "### Resolver varios ejemplos y comprobar los resultados"
   ]
  },
  {
   "cell_type": "code",
   "execution_count": 3,
   "id": "6a3e1d84-c221-4e21-ad07-938a25aaff11",
   "metadata": {},
   "outputs": [
    {
     "name": "stdout",
     "output_type": "stream",
     "text": [
      "Probabilidad a priori de cáncer: 0.01\n",
      "Sensibilidad del test: 0.9\n",
      "Especificidad del test: 0.2\n",
      "Probabilidad de cáncer si el test es positivo: 0.045000000000000005\n"
     ]
    }
   ],
   "source": [
    "# Ejemplo 1: \n",
    "\n",
    "# TODO: Resuelve los ejemplos anteriores\n",
    "\n",
    "p_a = 0.01\n",
    "p_b_dado_a = 0.9\n",
    "p_b_dado_no_a = 0.2\n",
    "\n",
    "p_a_dado_b = bayes_theorem(p_a, p_b_dado_a, p_b_dado_no_a)\n",
    "\n",
    "print('Probabilidad a priori de cáncer:', p_a)\n",
    "print('Sensibilidad del test:', p_b_dado_a)\n",
    "print('Especificidad del test:', p_b_dado_no_a)\n",
    "print('Probabilidad de cáncer si el test es positivo:', p_a_dado_b)"
   ]
  },
  {
   "cell_type": "code",
   "execution_count": 4,
   "id": "fa37f774-adbb-4447-b67e-f3cdbe43bfd2",
   "metadata": {},
   "outputs": [
    {
     "name": "stdout",
     "output_type": "stream",
     "text": [
      "Probabilidad a priori de cáncer: 0.01\n",
      "Sensibilidad del test: 0.85\n",
      "Especificidad del test: 0.15\n",
      "Probabilidad de cáncer si el test es positivo: 0.05666666666666667\n"
     ]
    }
   ],
   "source": [
    "# Ejemplo 2: \n",
    "\n",
    "# TODO: Resuelve los ejemplos anteriores\n",
    "\n",
    "p_a = 0.01\n",
    "p_b_dado_a = 0.85\n",
    "p_b_dado_no_a = 0.15\n",
    "\n",
    "p_a_dado_b = bayes_theorem(p_a, p_b_dado_a, p_b_dado_no_a)\n",
    "\n",
    "print('Probabilidad a priori de cáncer:', p_a)\n",
    "print('Sensibilidad del test:', p_b_dado_a)\n",
    "print('Especificidad del test:', p_b_dado_no_a)\n",
    "print('Probabilidad de cáncer si el test es positivo:', p_a_dado_b)"
   ]
  },
  {
   "cell_type": "code",
   "execution_count": 5,
   "id": "87e20db4-f984-42d8-b489-2be389ec5e45",
   "metadata": {},
   "outputs": [
    {
     "name": "stdout",
     "output_type": "stream",
     "text": [
      "Probabilidad a priori de cáncer: 0.01\n",
      "Sensibilidad del test: 0.9\n",
      "Especificidad del test: 0.05\n",
      "Probabilidad de cáncer si el test es positivo: 0.18000000000000002\n"
     ]
    }
   ],
   "source": [
    "# Ejemplo 3: \n",
    "\n",
    "# TODO: Resuelve los ejemplos anteriores\n",
    "\n",
    "p_a = 0.01\n",
    "p_b_dado_a = 0.9\n",
    "p_b_dado_no_a = 0.05\n",
    "\n",
    "p_a_dado_b = bayes_theorem(p_a, p_b_dado_a, p_b_dado_no_a)\n",
    "\n",
    "print('Probabilidad a priori de cáncer:', p_a)\n",
    "print('Sensibilidad del test:', p_b_dado_a)\n",
    "print('Especificidad del test:', p_b_dado_no_a)\n",
    "print('Probabilidad de cáncer si el test es positivo:', p_a_dado_b)"
   ]
  },
  {
   "cell_type": "markdown",
   "id": "4fc01796-419f-44cc-b9fa-c2e6301c8a4d",
   "metadata": {},
   "source": [
    "### Representar los efectos de la sensibilidad y especifidad gráficamente"
   ]
  },
  {
   "cell_type": "code",
   "execution_count": 24,
   "id": "e9fc908c-8c90-4bec-940c-6dd161a56cbf",
   "metadata": {},
   "outputs": [
    {
     "data": {
      "image/png": "[encoded data removed]",
      "text/plain": [
       "<Figure size 432x288 with 2 Axes>"
      ]
     },
     "metadata": {
      "needs_background": "light"
     },
     "output_type": "display_data"
    }
   ],
   "source": [
    "import numpy as np\n",
    "from matplotlib import pyplot as plt\n",
    "\n",
    "# TODO: Representa gráficamente los efectos de la sensibilidad y especificidad en el Teorema de Bayes\n",
    "\n",
    "p_a = 0.01\n",
    "\n",
    "# Crea un array con un espacio lineal del +/- 25% sobre los valores base de 0.9 y 0.2, respectivamente, con 10 valores\n",
    "sensibilidad = np.random.random(10)\n",
    "val_min= -1.125\n",
    "val_max= 1.125\n",
    "sensibilidad = (sensibilidad*(val_max-val_min)+val_min)\n",
    "\n",
    "especifidad = np.random.random(10)\n",
    "val_min= -1.125\n",
    "val_max= 1.125\n",
    "especifidad = (especifidad*(val_max-val_min)+val_min)\n",
    "\n",
    "# Calcula los resultados de las probabilidades a posteriori\n",
    "# Mantén como constante el valor central de la sensibilidad y la especificidad, respectivamente\n",
    "res1 = []\n",
    "res2 = []\n",
    "\n",
    "for x in sensibilidad: \n",
    "    sens = bayes_theorem(p_a, x, 0.2)\n",
    "    res1.append(sens)\n",
    "\n",
    "for x in especifidad: \n",
    "    esp = bayes_theorem(p_a, 0.9, x)\n",
    "    res2.append(esp)\n",
    "\n",
    "\n",
    "fig, axs = plt.subplots(2)\n",
    "\n",
    "fig.suptitle(\"sensibilidad vs especifidad\")\n",
    "\n",
    "axs[0].plot(res1)\n",
    "axs[1].plot(res2)\n",
    "\n",
    "plt.show()"
   ]
  },
  {
   "cell_type": "code",
   "execution_count": null,
   "id": "28da7521-aba3-49d1-bb54-1786c6149c6d",
   "metadata": {},
   "outputs": [],
   "source": []
  }
 ],
 "metadata": {
  "kernelspec": {
   "display_name": "Python 3 (ipykernel)",
   "language": "python",
   "name": "python3"
  },
  "language_info": {
   "codemirror_mode": {
    "name": "ipython",
    "version": 3
   },
   "file_extension": ".py",
   "mimetype": "text/x-python",
   "name": "python",
   "nbconvert_exporter": "python",
   "pygments_lexer": "ipython3",
   "version": "3.9.7"
  }
 },
 "nbformat": 4,
 "nbformat_minor": 5
}
